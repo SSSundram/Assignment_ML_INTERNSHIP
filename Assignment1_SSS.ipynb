{
 "cells": [
  {
   "cell_type": "markdown",
   "metadata": {},
   "source": [
    "Name : Satyam Shivam Sundram\n",
    "email : sss.20ec1106@phd.nitdgp.ac.in\n",
    "contact no.: 7760765852\n",
    "college : National Institute of Technology, Durgapur"
   ]
  },
  {
   "cell_type": "markdown",
   "metadata": {},
   "source": [
    "Q1. A company decided to give bonus of 5% to employee if his/her year of service is more than 5 years. Ask user for their salary and year of service and print the net bonus amount."
   ]
  },
  {
   "cell_type": "code",
   "execution_count": 34,
   "metadata": {},
   "outputs": [
    {
     "name": "stdin",
     "output_type": "stream",
     "text": [
      "Please enter your year of service in years :  6\n"
     ]
    },
    {
     "name": "stdout",
     "output_type": "stream",
     "text": [
      "you are eligible for bonus\n"
     ]
    },
    {
     "name": "stdin",
     "output_type": "stream",
     "text": [
      "please enter you salary :  100000\n"
     ]
    },
    {
     "name": "stdout",
     "output_type": "stream",
     "text": [
      "your current salary is :   100000.0\n",
      "your bonus amount is :  5000.0\n",
      "your incremented salary : 105000.0\n"
     ]
    }
   ],
   "source": [
    "year_of_service = int(input(\"Please enter your year of service in years : \"))\n",
    "if year_of_service>=5:\n",
    "                      print(\"you are eligible for bonus\")\n",
    "                      salary = float(input(\"please enter you salary : \" ))\n",
    "                      print(\"your current salary is :  \", salary )\n",
    "                      bonus = 5/100 * salary\n",
    "                      print(\"your bonus amount is : \", bonus)\n",
    "                      salary = salary + bonus\n",
    "                      print(\"your incremented salary :\", salary)\n",
    "                    \n",
    "else :\n",
    "                      print(\"Sorry, you are not eligible for bonus\" )\n"
   ]
  },
  {
   "cell_type": "code",
   "execution_count": null,
   "metadata": {},
   "outputs": [],
   "source": []
  },
  {
   "cell_type": "raw",
   "metadata": {},
   "source": [
    "Q2. A school has following rules for grading system: \n",
    "    a. Below 25 - F \n",
    "    b. 25 to 45 - E \n",
    "    c. 45 to 50 - D \n",
    "    d. 50 to 60 - C \n",
    "    e. 60 to 80 - B \n",
    "    f. Above 80 - A \n",
    "    Ask user to enter marks and print the corresponding grade."
   ]
  },
  {
   "cell_type": "code",
   "execution_count": 35,
   "metadata": {},
   "outputs": [
    {
     "name": "stdin",
     "output_type": "stream",
     "text": [
      "please enter your Full marks :  100\n",
      "please enter your marks obtained :  95\n"
     ]
    },
    {
     "name": "stdout",
     "output_type": "stream",
     "text": [
      "your grade corresponds to category : 'A' \n"
     ]
    }
   ],
   "source": [
    "full_marks = float(input(\"please enter your Full marks : \"))\n",
    "marks = float(input(\"please enter your marks obtained : \"))\n",
    "if marks<25:\n",
    "    print(\"your grade corresponds to category : 'F' \")\n",
    "elif 25<=marks<45 :\n",
    "    print(\"your grade corresponds to category : 'E' \")\n",
    "elif 45<=marks<50 :\n",
    "    print(\"your grade corresponds to category : 'D' \")\n",
    "elif 50<=marks<60 :\n",
    "    print(\"your grade corresponds to category : 'C' \")\n",
    "elif 60<=marks<80 :\n",
    "    print(\"your grade corresponds to category : 'B' \")\n",
    "elif 80<=marks<=full_marks :\n",
    "    print(\"your grade corresponds to category : 'A' \")\n",
    "else :\n",
    "    print(\"you were absent in the examination, better luck next time\")\n",
    "    "
   ]
  },
  {
   "cell_type": "code",
   "execution_count": null,
   "metadata": {},
   "outputs": [],
   "source": []
  },
  {
   "cell_type": "raw",
   "metadata": {},
   "source": [
    "Q3. A student will not be allowed to sit in exam if his/her attendence is less than 75%. \n",
    "    Take following input from user \n",
    "    Number of classes held \n",
    "    Number of classes attended. \n",
    "    And print percentage of class attended \n",
    "    Is student is allowed to sit in exam or not."
   ]
  },
  {
   "cell_type": "code",
   "execution_count": 39,
   "metadata": {},
   "outputs": [
    {
     "name": "stdin",
     "output_type": "stream",
     "text": [
      "Please enter the total number of classes held :  85\n",
      "Please enter the number of classes attended by the student :  69\n"
     ]
    },
    {
     "name": "stdout",
     "output_type": "stream",
     "text": [
      "percentage of class attened by the student is :  81.17647058823529\n",
      "The student is allowed to attend the exam. \n"
     ]
    }
   ],
   "source": [
    "total_class = int(input(\"Please enter the total number of classes held : \"))\n",
    "class_attended = int(input(\"Please enter the number of classes attended by the student : \"))\n",
    "percent_class_attended = (class_attended / total_class) *100\n",
    "print(\"percentage of class attened by the student is : \", percent_class_attended)\n",
    "if percent_class_attended>=75:\n",
    "    print(\"The student is allowed to attend the exam. \")\n",
    "else :\n",
    "    print(\"The student is not allowed to attend the exam. \")"
   ]
  },
  {
   "cell_type": "code",
   "execution_count": null,
   "metadata": {},
   "outputs": [],
   "source": []
  },
  {
   "cell_type": "raw",
   "metadata": {},
   "source": [
    "Q4. Ask user to enter age, sex ( M or F ), marital status ( Y or N ) and then using following rules print their place of    service.\n",
    "    if employee is female, then she will work only in urban areas. \n",
    "    if employee is a male and age is in between 20 to 40 then he may work in anywhere \n",
    "    if employee is male and age is in between 40 t0 60 then he will work in urban areas only."
   ]
  },
  {
   "cell_type": "code",
   "execution_count": 53,
   "metadata": {},
   "outputs": [
    {
     "name": "stdin",
     "output_type": "stream",
     "text": [
      "Please enter your age :  80\n",
      "Please enter your gender M or F : >  M\n",
      "Are you married? Please enter Y or N :  N\n"
     ]
    },
    {
     "name": "stdout",
     "output_type": "stream",
     "text": [
      "Please provide correct information\n"
     ]
    }
   ],
   "source": [
    "age = int(input(\"Please enter your age : \"))\n",
    "sex = input( \"Please enter your gender M or F : > \")\n",
    "marital_status = input(\"Are you married? Please enter Y or N : \")\n",
    "if sex == \"F\" :\n",
    "    print(\"You will work only in urban areas.\")\n",
    "else :\n",
    "    if 20<=age<40:\n",
    "        print(\"You may work anywhwere\")\n",
    "    elif 40<=age<=60:\n",
    "        print(\"you will work in urban areas only\")\n",
    "    else :\n",
    "        print(\"Please provide correct information\")\n"
   ]
  },
  {
   "cell_type": "code",
   "execution_count": null,
   "metadata": {},
   "outputs": [],
   "source": []
  },
  {
   "cell_type": "markdown",
   "metadata": {},
   "source": [
    "Q5. Take 10 integers from keyboard using loop and print their average value on the screen."
   ]
  },
  {
   "cell_type": "code",
   "execution_count": 19,
   "metadata": {},
   "outputs": [
    {
     "name": "stdin",
     "output_type": "stream",
     "text": [
      "please enter first number :  1\n",
      "please enter second number :  2\n",
      "please enter third number :  3\n",
      "please enter fourth number :  4\n",
      "please enter fifth number :  5\n",
      "please enter sixth number :  6\n",
      "please enter seventh number :  7\n",
      "please enter eight number :  8\n",
      "please enter ninth number :  9\n",
      "please enter tenth number :  10\n"
     ]
    },
    {
     "name": "stdout",
     "output_type": "stream",
     "text": [
      "Average of ten numbers provided by you is  5.5\n"
     ]
    }
   ],
   "source": [
    "a1 = int(input(\"please enter first number : \" ))\n",
    "a2 = int(input(\"please enter second number : \" ))\n",
    "a3 = int(input(\"please enter third number : \" ))\n",
    "a4 = int(input(\"please enter fourth number : \" ))\n",
    "a5 = int(input(\"please enter fifth number : \" ))\n",
    "a6 = int(input(\"please enter sixth number : \" ))\n",
    "a7 = int(input(\"please enter seventh number : \" ))\n",
    "a8 = int(input(\"please enter eight number : \" ))\n",
    "a9 = int(input(\"please enter ninth number : \" ))\n",
    "a10 = int(input(\"please enter tenth number : \" ))\n",
    "average = (a1+a2+a3+a4+a5+a6+a7+a8+a9+a10)/10\n",
    "print(\"Average of ten numbers provided by you is \", average)"
   ]
  },
  {
   "cell_type": "code",
   "execution_count": 20,
   "metadata": {},
   "outputs": [
    {
     "name": "stdin",
     "output_type": "stream",
     "text": [
      "please enter the numbers :>  1\n",
      "please enter the numbers :>  2\n",
      "please enter the numbers :>  3\n",
      "please enter the numbers :>  4\n",
      "please enter the numbers :>  5\n",
      "please enter the numbers :>  6\n",
      "please enter the numbers :>  7\n",
      "please enter the numbers :>  8\n",
      "please enter the numbers :>  9\n",
      "please enter the numbers :>  10\n"
     ]
    },
    {
     "name": "stdout",
     "output_type": "stream",
     "text": [
      "The average of given ten numbers is :  5.5\n"
     ]
    }
   ],
   "source": [
    "temp_sum = 0\n",
    "avg = 0\n",
    "for i in range(10):\n",
    "    number = int(input(\"please enter the numbers :> \"))\n",
    "    temp_sum = temp_sum + number\n",
    "    avg = temp_sum/(i+1)\n",
    "print(\"The average of given ten numbers is : \", avg)"
   ]
  },
  {
   "cell_type": "code",
   "execution_count": null,
   "metadata": {},
   "outputs": [],
   "source": []
  },
  {
   "cell_type": "markdown",
   "metadata": {},
   "source": [
    "Q6. Write a program to calculate factorial of a number."
   ]
  },
  {
   "cell_type": "code",
   "execution_count": 9,
   "metadata": {},
   "outputs": [
    {
     "name": "stdin",
     "output_type": "stream",
     "text": [
      "please enter the number to estimate factorial value :  6\n"
     ]
    },
    {
     "name": "stdout",
     "output_type": "stream",
     "text": [
      "720\n"
     ]
    }
   ],
   "source": [
    "fact = int(input(\"please enter the number to estimate factorial value : \"))\n",
    "factorial = 1\n",
    "for i in range (fact):\n",
    "    factorial = factorial *(i+1)\n",
    "print(factorial)"
   ]
  },
  {
   "cell_type": "code",
   "execution_count": null,
   "metadata": {},
   "outputs": [],
   "source": []
  },
  {
   "cell_type": "markdown",
   "metadata": {},
   "source": [
    "Q7. Take integer inputs from user until he/she presses q ( Ask to press q to quit after \n",
    "every integer input ). Print average and product of all numbers."
   ]
  },
  {
   "cell_type": "code",
   "execution_count": 8,
   "metadata": {},
   "outputs": [
    {
     "name": "stdin",
     "output_type": "stream",
     "text": [
      "please enter your choice 'q' to quit and 'c'to continue : c\n",
      "please enter the next number :  14\n"
     ]
    },
    {
     "name": "stdout",
     "output_type": "stream",
     "text": [
      "The average of given numbers is : 14.0\n"
     ]
    },
    {
     "name": "stdin",
     "output_type": "stream",
     "text": [
      "please enter your choice 'q' to quit and 'c'to continue : c\n",
      "please enter the next number :  42\n"
     ]
    },
    {
     "name": "stdout",
     "output_type": "stream",
     "text": [
      "The average of given numbers is : 28.0\n"
     ]
    },
    {
     "name": "stdin",
     "output_type": "stream",
     "text": [
      "please enter your choice 'q' to quit and 'c'to continue : q\n"
     ]
    },
    {
     "name": "stdout",
     "output_type": "stream",
     "text": [
      "you have requested to quit\n"
     ]
    }
   ],
   "source": [
    "choice = \"\"\n",
    "avg = 0\n",
    "temp_sum = 0\n",
    "count = 0\n",
    "number =0\n",
    "while choice != \"q\":\n",
    "        choice=input(\"please enter your choice 'q' to quit and 'c' to continue :\" )\n",
    "        if choice != \"q\":\n",
    "            number = int(input(\"please enter the next number : \"))\n",
    "            (temp_sum) = (temp_sum) + (number)\n",
    "            count+=1\n",
    "            avg= temp_sum/count\n",
    "            print(\"The average of given numbers is :\", avg)\n",
    "        else :\n",
    "            print(\"you have requested to quit\")\n",
    "            break"
   ]
  },
  {
   "cell_type": "code",
   "execution_count": null,
   "metadata": {},
   "outputs": [],
   "source": []
  },
  {
   "cell_type": "markdown",
   "metadata": {},
   "source": [
    "Q8. A three digit number is called Armstrong number if sum of cube of its digit is equal to \n",
    "number itself.\n",
    "E.g.- 153 is an Armstrong number.\n",
    "Write all Armstrong numbers between 100 to 500."
   ]
  },
  {
   "cell_type": "code",
   "execution_count": 11,
   "metadata": {},
   "outputs": [
    {
     "name": "stdout",
     "output_type": "stream",
     "text": [
      "The given number is an Armstrong number and the number is :  153\n",
      "The given number is an Armstrong number and the number is :  370\n",
      "The given number is an Armstrong number and the number is :  371\n",
      "The given number is an Armstrong number and the number is :  407\n"
     ]
    }
   ],
   "source": [
    "#number = int(input())\n",
    "for number in range(100,500):\n",
    "    hundred_place_digit = int(number/100)\n",
    "    #print(hundred_place_digit)\n",
    "    ten_place_digit = int((number%100)/10)\n",
    "    #print(ten_place_digit)\n",
    "    unit_place_digit = int((number%100)%10)\n",
    "    #print(unit_place_digit)\n",
    "    sum_total = (hundred_place_digit**3) + (ten_place_digit**3) + (unit_place_digit**3)\n",
    "    if sum_total == number :\n",
    "        print(\"The given number is an Armstrong number and the number is : \", number)\n",
    "    #else :\n",
    "        #print(\"The given number is not an Armstrong number. \")"
   ]
  },
  {
   "cell_type": "code",
   "execution_count": 15,
   "metadata": {},
   "outputs": [
    {
     "name": "stdin",
     "output_type": "stream",
     "text": [
      "please enter a three digit number :  452\n"
     ]
    },
    {
     "name": "stdout",
     "output_type": "stream",
     "text": [
      "The given number is not an Armstrong number. \n"
     ]
    }
   ],
   "source": [
    "number = int(input(\"please enter a three digit number : \"))\n",
    "hundred_place_digit = int(number/100)\n",
    "#print(hundred_place_digit)\n",
    "ten_place_digit = int((number%100)/10)\n",
    "#print(ten_place_digit)\n",
    "unit_place_digit = int((number%100)%10)\n",
    "#print(unit_place_digit)\n",
    "sum_total = (hundred_place_digit**3) + (ten_place_digit**3) + (unit_place_digit**3)\n",
    "if sum_total == number :\n",
    "    print(\"The given number is an Armstrong number.\")\n",
    "else :\n",
    "    print(\"The given number is not an Armstrong number. \")"
   ]
  },
  {
   "cell_type": "code",
   "execution_count": null,
   "metadata": {},
   "outputs": [],
   "source": []
  },
  {
   "cell_type": "markdown",
   "metadata": {},
   "source": [
    "Q9. Write a program to find the length of the string \"refrigerator\" without \n",
    "using len function"
   ]
  },
  {
   "cell_type": "code",
   "execution_count": 11,
   "metadata": {},
   "outputs": [
    {
     "name": "stdout",
     "output_type": "stream",
     "text": [
      "12\n"
     ]
    }
   ],
   "source": [
    "x = \"refrigerator\"\n",
    "count = 0\n",
    "for i in x :\n",
    "    count = count +1\n",
    "print(count)"
   ]
  },
  {
   "cell_type": "code",
   "execution_count": null,
   "metadata": {},
   "outputs": [],
   "source": []
  },
  {
   "cell_type": "markdown",
   "metadata": {},
   "source": [
    "Q10. Write a program that takes your full name as input and displays the abbreviations of \n",
    "    the first and middle names except the last name which is displayed as it is. For \n",
    "    example, if your name is Robert Brett Roser, then the output should be R.B.Roser"
   ]
  },
  {
   "cell_type": "code",
   "execution_count": 36,
   "metadata": {},
   "outputs": [
    {
     "name": "stdin",
     "output_type": "stream",
     "text": [
      "Please enter your first name :  Satyam\n",
      "Please enter your middle name :  Shivam\n",
      "Please enter your last name :  Sundram\n"
     ]
    },
    {
     "name": "stdout",
     "output_type": "stream",
     "text": [
      "Your full name is :  Satyam Shivam Sundram\n",
      "your abbreviated name is :  S S Sundram\n"
     ]
    }
   ],
   "source": [
    "a = input(\"Please enter your first name : \")\n",
    "b = input(\"Please enter your middle name : \")\n",
    "c = input(\"Please enter your last name : \")\n",
    "print(\"Your full name is : \",a , b , c)\n",
    "d = a.split()\n",
    "e = b.split()\n",
    "print(\"your abbreviated name is : \", d[0][0], e[0][0], c)"
   ]
  },
  {
   "cell_type": "markdown",
   "metadata": {},
   "source": []
  },
  {
   "cell_type": "markdown",
   "metadata": {},
   "source": []
  },
  {
   "cell_type": "code",
   "execution_count": 44,
   "metadata": {},
   "outputs": [
    {
     "name": "stdin",
     "output_type": "stream",
     "text": [
      "Please enter your full name :  Satyam Shivam Sundram\n"
     ]
    },
    {
     "name": "stdout",
     "output_type": "stream",
     "text": [
      "your abbreviated name is :  S S Sundram\n"
     ]
    }
   ],
   "source": [
    "x=input(\"Please enter your full name : \")\n",
    "y = x.split()\n",
    "print(\"your abbreviated name is : \", y[0][0], y[1][0], y[2])"
   ]
  },
  {
   "cell_type": "code",
   "execution_count": null,
   "metadata": {},
   "outputs": [],
   "source": []
  },
  {
   "cell_type": "code",
   "execution_count": null,
   "metadata": {},
   "outputs": [],
   "source": []
  },
  {
   "cell_type": "code",
   "execution_count": null,
   "metadata": {},
   "outputs": [],
   "source": []
  },
  {
   "cell_type": "code",
   "execution_count": null,
   "metadata": {},
   "outputs": [],
   "source": []
  },
  {
   "cell_type": "code",
   "execution_count": null,
   "metadata": {},
   "outputs": [],
   "source": []
  },
  {
   "cell_type": "code",
   "execution_count": null,
   "metadata": {},
   "outputs": [],
   "source": []
  },
  {
   "cell_type": "code",
   "execution_count": null,
   "metadata": {},
   "outputs": [],
   "source": []
  },
  {
   "cell_type": "code",
   "execution_count": null,
   "metadata": {},
   "outputs": [],
   "source": []
  },
  {
   "cell_type": "code",
   "execution_count": null,
   "metadata": {},
   "outputs": [],
   "source": []
  },
  {
   "cell_type": "code",
   "execution_count": null,
   "metadata": {},
   "outputs": [],
   "source": []
  },
  {
   "cell_type": "code",
   "execution_count": null,
   "metadata": {},
   "outputs": [],
   "source": []
  },
  {
   "cell_type": "code",
   "execution_count": null,
   "metadata": {},
   "outputs": [],
   "source": []
  },
  {
   "cell_type": "code",
   "execution_count": null,
   "metadata": {},
   "outputs": [],
   "source": []
  },
  {
   "cell_type": "code",
   "execution_count": null,
   "metadata": {},
   "outputs": [],
   "source": []
  },
  {
   "cell_type": "code",
   "execution_count": null,
   "metadata": {},
   "outputs": [],
   "source": []
  },
  {
   "cell_type": "code",
   "execution_count": null,
   "metadata": {},
   "outputs": [],
   "source": []
  },
  {
   "cell_type": "markdown",
   "metadata": {},
   "source": [
    "S"
   ]
  },
  {
   "cell_type": "code",
   "execution_count": null,
   "metadata": {},
   "outputs": [],
   "source": []
  },
  {
   "cell_type": "code",
   "execution_count": null,
   "metadata": {},
   "outputs": [],
   "source": [
    "\n"
   ]
  },
  {
   "cell_type": "code",
   "execution_count": null,
   "metadata": {},
   "outputs": [],
   "source": []
  },
  {
   "cell_type": "code",
   "execution_count": null,
   "metadata": {},
   "outputs": [],
   "source": []
  },
  {
   "cell_type": "code",
   "execution_count": null,
   "metadata": {},
   "outputs": [],
   "source": []
  },
  {
   "cell_type": "code",
   "execution_count": null,
   "metadata": {},
   "outputs": [],
   "source": []
  },
  {
   "cell_type": "code",
   "execution_count": null,
   "metadata": {},
   "outputs": [],
   "source": []
  },
  {
   "cell_type": "code",
   "execution_count": null,
   "metadata": {},
   "outputs": [],
   "source": []
  },
  {
   "cell_type": "code",
   "execution_count": null,
   "metadata": {},
   "outputs": [],
   "source": []
  },
  {
   "cell_type": "code",
   "execution_count": null,
   "metadata": {},
   "outputs": [],
   "source": []
  },
  {
   "cell_type": "code",
   "execution_count": null,
   "metadata": {},
   "outputs": [],
   "source": []
  },
  {
   "cell_type": "code",
   "execution_count": null,
   "metadata": {},
   "outputs": [],
   "source": []
  },
  {
   "cell_type": "code",
   "execution_count": null,
   "metadata": {},
   "outputs": [],
   "source": []
  },
  {
   "cell_type": "code",
   "execution_count": null,
   "metadata": {},
   "outputs": [],
   "source": []
  },
  {
   "cell_type": "code",
   "execution_count": null,
   "metadata": {},
   "outputs": [],
   "source": []
  },
  {
   "cell_type": "code",
   "execution_count": null,
   "metadata": {},
   "outputs": [],
   "source": []
  }
 ],
 "metadata": {
  "kernelspec": {
   "display_name": "Python 3",
   "language": "python",
   "name": "python3"
  },
  "language_info": {
   "codemirror_mode": {
    "name": "ipython",
    "version": 3
   },
   "file_extension": ".py",
   "mimetype": "text/x-python",
   "name": "python",
   "nbconvert_exporter": "python",
   "pygments_lexer": "ipython3",
   "version": "3.7.4"
  }
 },
 "nbformat": 4,
 "nbformat_minor": 4
}
